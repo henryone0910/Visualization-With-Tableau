{
 "cells": [
  {
   "cell_type": "markdown",
   "metadata": {},
   "source": [
    "# Import necessary libraries."
   ]
  },
  {
   "cell_type": "code",
   "execution_count": 1,
   "metadata": {},
   "outputs": [],
   "source": [
    "# import libraries\n",
    "import glob\n",
    "import numpy as np\n",
    "import pandas as pd\n",
    "\n",
    "from sklearn.model_selection import train_test_split\n",
    "from sklearn.linear_model import LinearRegression\n",
    "from sklearn.tree import DecisionTreeRegressor\n",
    "# import geopandas as gpd"
   ]
  },
  {
   "cell_type": "markdown",
   "metadata": {},
   "source": [
    "---\n",
    "# Import & concatenate data"
   ]
  },
  {
   "cell_type": "markdown",
   "metadata": {},
   "source": [
    "Read all CSV files from the data folder."
   ]
  },
  {
   "cell_type": "code",
   "execution_count": 2,
   "metadata": {},
   "outputs": [],
   "source": [
    "# get CSV files list from data folder with sorted order\n",
    "csv_files = glob.glob(\"data/*.csv\")"
   ]
  },
  {
   "cell_type": "markdown",
   "metadata": {},
   "source": [
    "Concatenate all DataFrames into one DataFrame."
   ]
  },
  {
   "cell_type": "code",
   "execution_count": 3,
   "metadata": {},
   "outputs": [],
   "source": [
    "# read each CSV file into DataFrame\n",
    "# this creates a list of DataFrames\n",
    "\n",
    "df_list = []\n",
    "for file in csv_files:\n",
    "    df = pd.read_csv(file, keep_default_na=False)\n",
    "    \n",
    "    # add date column\n",
    "    df['Date'] = file[5:-4]\n",
    "    df.Date = pd.to_datetime(df.Date)\n",
    "    \n",
    "    # drop continent rows\n",
    "    df.drop(df.index[0:7], inplace=True)\n",
    "    df_list.append(df)\n",
    "\n",
    "# concatenate all DataFrames\n",
    "big_df = pd.concat(df_list, ignore_index=True)\n",
    "\n",
    "#DataFrame not containing continent rows\n",
    "continents = ['Asia','North America','Europe', 'South America', 'Africa', 'Oceania']"
   ]
  },
  {
   "cell_type": "code",
   "execution_count": 4,
   "metadata": {},
   "outputs": [
    {
     "data": {
      "text/html": [
       "<div>\n",
       "<style scoped>\n",
       "    .dataframe tbody tr th:only-of-type {\n",
       "        vertical-align: middle;\n",
       "    }\n",
       "\n",
       "    .dataframe tbody tr th {\n",
       "        vertical-align: top;\n",
       "    }\n",
       "\n",
       "    .dataframe thead th {\n",
       "        text-align: right;\n",
       "    }\n",
       "</style>\n",
       "<table border=\"1\" class=\"dataframe\">\n",
       "  <thead>\n",
       "    <tr style=\"text-align: right;\">\n",
       "      <th></th>\n",
       "      <th>Country,Other</th>\n",
       "      <th>TotalCases</th>\n",
       "      <th>NewCases</th>\n",
       "      <th>TotalDeaths</th>\n",
       "      <th>NewDeaths</th>\n",
       "      <th>TotalRecovered</th>\n",
       "      <th>NewRecovered</th>\n",
       "      <th>ActiveCases</th>\n",
       "      <th>Serious,Critical</th>\n",
       "      <th>TotCases/1M pop</th>\n",
       "      <th>Deaths/1M pop</th>\n",
       "      <th>TotalTests</th>\n",
       "      <th>Tests/1M pop</th>\n",
       "      <th>Population</th>\n",
       "      <th>Continent</th>\n",
       "      <th>Date</th>\n",
       "    </tr>\n",
       "  </thead>\n",
       "  <tbody>\n",
       "    <tr>\n",
       "      <th>0</th>\n",
       "      <td>World</td>\n",
       "      <td>679,494,398</td>\n",
       "      <td>117,336</td>\n",
       "      <td>6,797,254</td>\n",
       "      <td>679</td>\n",
       "      <td>652,277,902</td>\n",
       "      <td>120,702</td>\n",
       "      <td>20,419,242</td>\n",
       "      <td>40,559</td>\n",
       "      <td>87,173</td>\n",
       "      <td>872</td>\n",
       "      <td></td>\n",
       "      <td></td>\n",
       "      <td></td>\n",
       "      <td>All</td>\n",
       "      <td>2023-02-24</td>\n",
       "    </tr>\n",
       "    <tr>\n",
       "      <th>1</th>\n",
       "      <td>China</td>\n",
       "      <td>503,302</td>\n",
       "      <td></td>\n",
       "      <td>5,272</td>\n",
       "      <td></td>\n",
       "      <td>379,053</td>\n",
       "      <td></td>\n",
       "      <td>118,977</td>\n",
       "      <td>7,557</td>\n",
       "      <td>347</td>\n",
       "      <td>4</td>\n",
       "      <td>160,000,000</td>\n",
       "      <td>110,461</td>\n",
       "      <td>1,448,471,400</td>\n",
       "      <td>Asia</td>\n",
       "      <td>2023-02-24</td>\n",
       "    </tr>\n",
       "    <tr>\n",
       "      <th>2</th>\n",
       "      <td>USA</td>\n",
       "      <td>105,169,945</td>\n",
       "      <td>8,922</td>\n",
       "      <td>1,144,441</td>\n",
       "      <td>73</td>\n",
       "      <td>102,567,861</td>\n",
       "      <td>34,979</td>\n",
       "      <td>1,457,643</td>\n",
       "      <td>2,588</td>\n",
       "      <td>314,123</td>\n",
       "      <td>3,418</td>\n",
       "      <td>1,164,027,866</td>\n",
       "      <td>3,476,731</td>\n",
       "      <td>334,805,269</td>\n",
       "      <td>North America</td>\n",
       "      <td>2023-02-24</td>\n",
       "    </tr>\n",
       "    <tr>\n",
       "      <th>3</th>\n",
       "      <td>India</td>\n",
       "      <td>44,685,799</td>\n",
       "      <td>180</td>\n",
       "      <td>530,764</td>\n",
       "      <td></td>\n",
       "      <td>44,152,945</td>\n",
       "      <td>106</td>\n",
       "      <td>2,090</td>\n",
       "      <td>N/A</td>\n",
       "      <td>31,768</td>\n",
       "      <td>377</td>\n",
       "      <td>918,324,498</td>\n",
       "      <td>652,854</td>\n",
       "      <td>1,406,631,776</td>\n",
       "      <td>Asia</td>\n",
       "      <td>2023-02-24</td>\n",
       "    </tr>\n",
       "    <tr>\n",
       "      <th>4</th>\n",
       "      <td>France</td>\n",
       "      <td>39,608,954</td>\n",
       "      <td>3,917</td>\n",
       "      <td>164,877</td>\n",
       "      <td>29</td>\n",
       "      <td>39,374,920</td>\n",
       "      <td>3,293</td>\n",
       "      <td>69,157</td>\n",
       "      <td>869</td>\n",
       "      <td>603,938</td>\n",
       "      <td>2,514</td>\n",
       "      <td>271,490,188</td>\n",
       "      <td>4,139,547</td>\n",
       "      <td>65,584,518</td>\n",
       "      <td>Europe</td>\n",
       "      <td>2023-02-24</td>\n",
       "    </tr>\n",
       "    <tr>\n",
       "      <th>5</th>\n",
       "      <td>Germany</td>\n",
       "      <td>38,111,063</td>\n",
       "      <td>20,974</td>\n",
       "      <td>167,812</td>\n",
       "      <td>89</td>\n",
       "      <td>37,654,800</td>\n",
       "      <td></td>\n",
       "      <td>288,451</td>\n",
       "      <td>N/A</td>\n",
       "      <td>454,333</td>\n",
       "      <td>2,001</td>\n",
       "      <td>122,332,384</td>\n",
       "      <td>1,458,359</td>\n",
       "      <td>83,883,596</td>\n",
       "      <td>Europe</td>\n",
       "      <td>2023-02-24</td>\n",
       "    </tr>\n",
       "    <tr>\n",
       "      <th>6</th>\n",
       "      <td>Brazil</td>\n",
       "      <td>37,020,531</td>\n",
       "      <td>11,587</td>\n",
       "      <td>698,928</td>\n",
       "      <td>94</td>\n",
       "      <td>36,185,975</td>\n",
       "      <td>6,329</td>\n",
       "      <td>135,628</td>\n",
       "      <td>N/A</td>\n",
       "      <td>171,906</td>\n",
       "      <td>3,245</td>\n",
       "      <td>63,776,166</td>\n",
       "      <td>296,146</td>\n",
       "      <td>215,353,593</td>\n",
       "      <td>South America</td>\n",
       "      <td>2023-02-24</td>\n",
       "    </tr>\n",
       "    <tr>\n",
       "      <th>7</th>\n",
       "      <td>Japan</td>\n",
       "      <td>33,157,721</td>\n",
       "      <td>6,512</td>\n",
       "      <td>72,134</td>\n",
       "      <td>83</td>\n",
       "      <td>21,675,630</td>\n",
       "      <td>2,474</td>\n",
       "      <td>11,409,957</td>\n",
       "      <td>183</td>\n",
       "      <td>264,026</td>\n",
       "      <td>574</td>\n",
       "      <td>94,827,129</td>\n",
       "      <td>755,084</td>\n",
       "      <td>125,584,838</td>\n",
       "      <td>Asia</td>\n",
       "      <td>2023-02-24</td>\n",
       "    </tr>\n",
       "    <tr>\n",
       "      <th>8</th>\n",
       "      <td>S. Korea</td>\n",
       "      <td>30,479,753</td>\n",
       "      <td>10,051</td>\n",
       "      <td>33,929</td>\n",
       "      <td>20</td>\n",
       "      <td>30,229,352</td>\n",
       "      <td>5,828</td>\n",
       "      <td>216,472</td>\n",
       "      <td>183</td>\n",
       "      <td>593,801</td>\n",
       "      <td>661</td>\n",
       "      <td>15,804,065</td>\n",
       "      <td>307,892</td>\n",
       "      <td>51,329,899</td>\n",
       "      <td>Asia</td>\n",
       "      <td>2023-02-24</td>\n",
       "    </tr>\n",
       "    <tr>\n",
       "      <th>9</th>\n",
       "      <td>Italy</td>\n",
       "      <td>25,576,852</td>\n",
       "      <td></td>\n",
       "      <td>188,094</td>\n",
       "      <td></td>\n",
       "      <td>25,219,653</td>\n",
       "      <td></td>\n",
       "      <td>169,105</td>\n",
       "      <td>133</td>\n",
       "      <td>424,422</td>\n",
       "      <td>3,121</td>\n",
       "      <td>267,663,187</td>\n",
       "      <td>4,441,601</td>\n",
       "      <td>60,262,770</td>\n",
       "      <td>Europe</td>\n",
       "      <td>2023-02-24</td>\n",
       "    </tr>\n",
       "  </tbody>\n",
       "</table>\n",
       "</div>"
      ],
      "text/plain": [
       "  Country,Other   TotalCases NewCases TotalDeaths NewDeaths TotalRecovered  \\\n",
       "0         World  679,494,398  117,336   6,797,254       679    652,277,902   \n",
       "1         China      503,302                5,272                  379,053   \n",
       "2           USA  105,169,945    8,922   1,144,441        73    102,567,861   \n",
       "3         India   44,685,799      180     530,764               44,152,945   \n",
       "4        France   39,608,954    3,917     164,877        29     39,374,920   \n",
       "5       Germany   38,111,063   20,974     167,812        89     37,654,800   \n",
       "6        Brazil   37,020,531   11,587     698,928        94     36,185,975   \n",
       "7         Japan   33,157,721    6,512      72,134        83     21,675,630   \n",
       "8      S. Korea   30,479,753   10,051      33,929        20     30,229,352   \n",
       "9         Italy   25,576,852              188,094               25,219,653   \n",
       "\n",
       "  NewRecovered ActiveCases Serious,Critical TotCases/1M pop Deaths/1M pop  \\\n",
       "0      120,702  20,419,242           40,559          87,173           872   \n",
       "1                  118,977            7,557             347             4   \n",
       "2       34,979   1,457,643            2,588         314,123         3,418   \n",
       "3          106       2,090              N/A          31,768           377   \n",
       "4        3,293      69,157              869         603,938         2,514   \n",
       "5                  288,451              N/A         454,333         2,001   \n",
       "6        6,329     135,628              N/A         171,906         3,245   \n",
       "7        2,474  11,409,957              183         264,026           574   \n",
       "8        5,828     216,472              183         593,801           661   \n",
       "9                  169,105              133         424,422         3,121   \n",
       "\n",
       "      TotalTests Tests/1M pop     Population      Continent       Date  \n",
       "0                                                       All 2023-02-24  \n",
       "1    160,000,000      110,461  1,448,471,400           Asia 2023-02-24  \n",
       "2  1,164,027,866    3,476,731    334,805,269  North America 2023-02-24  \n",
       "3    918,324,498      652,854  1,406,631,776           Asia 2023-02-24  \n",
       "4    271,490,188    4,139,547     65,584,518         Europe 2023-02-24  \n",
       "5    122,332,384    1,458,359     83,883,596         Europe 2023-02-24  \n",
       "6     63,776,166      296,146    215,353,593  South America 2023-02-24  \n",
       "7     94,827,129      755,084    125,584,838           Asia 2023-02-24  \n",
       "8     15,804,065      307,892     51,329,899           Asia 2023-02-24  \n",
       "9    267,663,187    4,441,601     60,262,770         Europe 2023-02-24  "
      ]
     },
     "execution_count": 4,
     "metadata": {},
     "output_type": "execute_result"
    }
   ],
   "source": [
    "big_df.head(10)"
   ]
  },
  {
   "cell_type": "markdown",
   "metadata": {},
   "source": [
    "---\n",
    "# Data exploration:"
   ]
  },
  {
   "cell_type": "markdown",
   "metadata": {},
   "source": [
    "## Feature information:"
   ]
  },
  {
   "cell_type": "markdown",
   "metadata": {},
   "source": [
    "| Header name      | Description                     |\n",
    "|------------------|--------------------------------:|\n",
    "| Country,Other    | Name of the country |\n",
    "| TotalCases       | Total number of cases           |\n",
    "| NewCases         | New cases of the day            |\n",
    "| TotalDeaths      | Total number of deaths          |\n",
    "| NewDeaths        | New deaths of the day           |\n",
    "| TotalRecovered   | Total number of recovered cases |\n",
    "| NewRecovered     | New recovered cases of the day  |\n",
    "| ActiveCases      | Active cases (F0, F1, ...) |\n",
    "| Serious,Critical | Serious cases                   |\n",
    "| TotCases/1M pop  | Total cases per 1M population   |    \n",
    "| Deaths/1M pop    | Total deaths per 1M population  |\n",
    "| TotalTests       | Total number of tests           |\n",
    "| Tests/1M pop     | Total tests per 1M population   |\n",
    "| Population       | Population of the country       |\n",
    "| Continent        | Continent of the country        |"
   ]
  },
  {
   "cell_type": "markdown",
   "metadata": {},
   "source": [
    "## Number of rows and columns of the DataFrame."
   ]
  },
  {
   "cell_type": "code",
   "execution_count": 5,
   "metadata": {},
   "outputs": [
    {
     "name": "stdout",
     "output_type": "stream",
     "text": [
      "Number of rows: 4872\n",
      "Number of columns: 16\n"
     ]
    }
   ],
   "source": [
    "# get number of rows\n",
    "num_rows = big_df.shape[0]\n",
    "\n",
    "# get number of columns\n",
    "num_cols = big_df.shape[1]\n",
    "\n",
    "print('Number of rows:', num_rows)\n",
    "print('Number of columns:', num_cols)\n"
   ]
  },
  {
   "cell_type": "markdown",
   "metadata": {},
   "source": [
    "## Data type"
   ]
  },
  {
   "cell_type": "code",
   "execution_count": 6,
   "metadata": {},
   "outputs": [
    {
     "name": "stdout",
     "output_type": "stream",
     "text": [
      "<class 'pandas.core.frame.DataFrame'>\n",
      "RangeIndex: 4872 entries, 0 to 4871\n",
      "Data columns (total 16 columns):\n",
      " #   Column            Non-Null Count  Dtype         \n",
      "---  ------            --------------  -----         \n",
      " 0   Country,Other     4872 non-null   object        \n",
      " 1   TotalCases        4872 non-null   object        \n",
      " 2   NewCases          4872 non-null   object        \n",
      " 3   TotalDeaths       4872 non-null   object        \n",
      " 4   NewDeaths         4872 non-null   object        \n",
      " 5   TotalRecovered    4872 non-null   object        \n",
      " 6   NewRecovered      4872 non-null   object        \n",
      " 7   ActiveCases       4872 non-null   object        \n",
      " 8   Serious,Critical  4872 non-null   object        \n",
      " 9   TotCases/1M pop   4872 non-null   object        \n",
      " 10  Deaths/1M pop     4872 non-null   object        \n",
      " 11  TotalTests        4872 non-null   object        \n",
      " 12  Tests/1M pop      4872 non-null   object        \n",
      " 13  Population        4872 non-null   object        \n",
      " 14  Continent         4872 non-null   object        \n",
      " 15  Date              4872 non-null   datetime64[ns]\n",
      "dtypes: datetime64[ns](1), object(15)\n",
      "memory usage: 609.1+ KB\n"
     ]
    }
   ],
   "source": [
    "# get DataFrame info\n",
    "big_df.info()"
   ]
  },
  {
   "cell_type": "markdown",
   "metadata": {},
   "source": [
    "Comment: the type of the columns is `object`, so we need to convert them to `numeric`."
   ]
  },
  {
   "cell_type": "markdown",
   "metadata": {},
   "source": [
    "## Check duplicates rows."
   ]
  },
  {
   "cell_type": "code",
   "execution_count": 7,
   "metadata": {},
   "outputs": [
    {
     "name": "stdout",
     "output_type": "stream",
     "text": [
      "No duplicated rows found\n"
     ]
    }
   ],
   "source": [
    "# get number of duplicated rows\n",
    "duplicated_rows = big_df.duplicated().sum()\n",
    "\n",
    "# check if there are duplicated rows\n",
    "if duplicated_rows > 0:\n",
    "    print(\"Number of duplicated rows:\", duplicated_rows)\n",
    "else:\n",
    "    print(\"No duplicated rows found\")\n"
   ]
  },
  {
   "cell_type": "markdown",
   "metadata": {},
   "source": [
    "## Some statistical:"
   ]
  },
  {
   "cell_type": "code",
   "execution_count": 8,
   "metadata": {},
   "outputs": [
    {
     "name": "stderr",
     "output_type": "stream",
     "text": [
      "C:\\Users\\doana\\AppData\\Local\\Temp\\ipykernel_16152\\2142895519.py:1: FutureWarning: Treating datetime data as categorical rather than numeric in `.describe` is deprecated and will be removed in a future version of pandas. Specify `datetime_is_numeric=True` to silence this warning and adopt the future behavior now.\n",
      "  big_df.describe().T\n"
     ]
    },
    {
     "data": {
      "text/html": [
       "<div>\n",
       "<style scoped>\n",
       "    .dataframe tbody tr th:only-of-type {\n",
       "        vertical-align: middle;\n",
       "    }\n",
       "\n",
       "    .dataframe tbody tr th {\n",
       "        vertical-align: top;\n",
       "    }\n",
       "\n",
       "    .dataframe thead th {\n",
       "        text-align: right;\n",
       "    }\n",
       "</style>\n",
       "<table border=\"1\" class=\"dataframe\">\n",
       "  <thead>\n",
       "    <tr style=\"text-align: right;\">\n",
       "      <th></th>\n",
       "      <th>count</th>\n",
       "      <th>unique</th>\n",
       "      <th>top</th>\n",
       "      <th>freq</th>\n",
       "      <th>first</th>\n",
       "      <th>last</th>\n",
       "    </tr>\n",
       "  </thead>\n",
       "  <tbody>\n",
       "    <tr>\n",
       "      <th>Country,Other</th>\n",
       "      <td>4872</td>\n",
       "      <td>232</td>\n",
       "      <td>World</td>\n",
       "      <td>21</td>\n",
       "      <td>NaT</td>\n",
       "      <td>NaT</td>\n",
       "    </tr>\n",
       "    <tr>\n",
       "      <th>TotalCases</th>\n",
       "      <td>4872</td>\n",
       "      <td>1526</td>\n",
       "      <td>18,491</td>\n",
       "      <td>21</td>\n",
       "      <td>NaT</td>\n",
       "      <td>NaT</td>\n",
       "    </tr>\n",
       "    <tr>\n",
       "      <th>NewCases</th>\n",
       "      <td>4872</td>\n",
       "      <td>666</td>\n",
       "      <td></td>\n",
       "      <td>3597</td>\n",
       "      <td>NaT</td>\n",
       "      <td>NaT</td>\n",
       "    </tr>\n",
       "    <tr>\n",
       "      <th>TotalDeaths</th>\n",
       "      <td>4872</td>\n",
       "      <td>850</td>\n",
       "      <td></td>\n",
       "      <td>126</td>\n",
       "      <td>NaT</td>\n",
       "      <td>NaT</td>\n",
       "    </tr>\n",
       "    <tr>\n",
       "      <th>NewDeaths</th>\n",
       "      <td>4872</td>\n",
       "      <td>167</td>\n",
       "      <td></td>\n",
       "      <td>4255</td>\n",
       "      <td>NaT</td>\n",
       "      <td>NaT</td>\n",
       "    </tr>\n",
       "    <tr>\n",
       "      <th>TotalRecovered</th>\n",
       "      <td>4872</td>\n",
       "      <td>1412</td>\n",
       "      <td>N/A</td>\n",
       "      <td>285</td>\n",
       "      <td>NaT</td>\n",
       "      <td>NaT</td>\n",
       "    </tr>\n",
       "    <tr>\n",
       "      <th>NewRecovered</th>\n",
       "      <td>4872</td>\n",
       "      <td>655</td>\n",
       "      <td></td>\n",
       "      <td>3397</td>\n",
       "      <td>NaT</td>\n",
       "      <td>NaT</td>\n",
       "    </tr>\n",
       "    <tr>\n",
       "      <th>ActiveCases</th>\n",
       "      <td>4872</td>\n",
       "      <td>1402</td>\n",
       "      <td>N/A</td>\n",
       "      <td>285</td>\n",
       "      <td>NaT</td>\n",
       "      <td>NaT</td>\n",
       "    </tr>\n",
       "    <tr>\n",
       "      <th>Serious,Critical</th>\n",
       "      <td>4872</td>\n",
       "      <td>167</td>\n",
       "      <td></td>\n",
       "      <td>2062</td>\n",
       "      <td>NaT</td>\n",
       "      <td>NaT</td>\n",
       "    </tr>\n",
       "    <tr>\n",
       "      <th>TotCases/1M pop</th>\n",
       "      <td>4872</td>\n",
       "      <td>1305</td>\n",
       "      <td></td>\n",
       "      <td>42</td>\n",
       "      <td>NaT</td>\n",
       "      <td>NaT</td>\n",
       "    </tr>\n",
       "    <tr>\n",
       "      <th>Deaths/1M pop</th>\n",
       "      <td>4872</td>\n",
       "      <td>528</td>\n",
       "      <td></td>\n",
       "      <td>168</td>\n",
       "      <td>NaT</td>\n",
       "      <td>NaT</td>\n",
       "    </tr>\n",
       "    <tr>\n",
       "      <th>TotalTests</th>\n",
       "      <td>4872</td>\n",
       "      <td>810</td>\n",
       "      <td></td>\n",
       "      <td>399</td>\n",
       "      <td>NaT</td>\n",
       "      <td>NaT</td>\n",
       "    </tr>\n",
       "    <tr>\n",
       "      <th>Tests/1M pop</th>\n",
       "      <td>4872</td>\n",
       "      <td>811</td>\n",
       "      <td></td>\n",
       "      <td>399</td>\n",
       "      <td>NaT</td>\n",
       "      <td>NaT</td>\n",
       "    </tr>\n",
       "    <tr>\n",
       "      <th>Population</th>\n",
       "      <td>4872</td>\n",
       "      <td>230</td>\n",
       "      <td></td>\n",
       "      <td>63</td>\n",
       "      <td>NaT</td>\n",
       "      <td>NaT</td>\n",
       "    </tr>\n",
       "    <tr>\n",
       "      <th>Continent</th>\n",
       "      <td>4872</td>\n",
       "      <td>10</td>\n",
       "      <td>Africa</td>\n",
       "      <td>1216</td>\n",
       "      <td>NaT</td>\n",
       "      <td>NaT</td>\n",
       "    </tr>\n",
       "    <tr>\n",
       "      <th>Date</th>\n",
       "      <td>4872</td>\n",
       "      <td>21</td>\n",
       "      <td>2023-02-24 00:00:00</td>\n",
       "      <td>232</td>\n",
       "      <td>2023-02-24</td>\n",
       "      <td>2023-03-17</td>\n",
       "    </tr>\n",
       "  </tbody>\n",
       "</table>\n",
       "</div>"
      ],
      "text/plain": [
       "                 count unique                  top  freq      first       last\n",
       "Country,Other     4872    232                World    21        NaT        NaT\n",
       "TotalCases        4872   1526               18,491    21        NaT        NaT\n",
       "NewCases          4872    666                       3597        NaT        NaT\n",
       "TotalDeaths       4872    850                        126        NaT        NaT\n",
       "NewDeaths         4872    167                       4255        NaT        NaT\n",
       "TotalRecovered    4872   1412                  N/A   285        NaT        NaT\n",
       "NewRecovered      4872    655                       3397        NaT        NaT\n",
       "ActiveCases       4872   1402                  N/A   285        NaT        NaT\n",
       "Serious,Critical  4872    167                       2062        NaT        NaT\n",
       "TotCases/1M pop   4872   1305                         42        NaT        NaT\n",
       "Deaths/1M pop     4872    528                        168        NaT        NaT\n",
       "TotalTests        4872    810                        399        NaT        NaT\n",
       "Tests/1M pop      4872    811                        399        NaT        NaT\n",
       "Population        4872    230                         63        NaT        NaT\n",
       "Continent         4872     10               Africa  1216        NaT        NaT\n",
       "Date              4872     21  2023-02-24 00:00:00   232 2023-02-24 2023-03-17"
      ]
     },
     "execution_count": 8,
     "metadata": {},
     "output_type": "execute_result"
    }
   ],
   "source": [
    "big_df.describe().T"
   ]
  },
  {
   "cell_type": "markdown",
   "metadata": {},
   "source": [
    "Comment: \n",
    "- `worldometer.info/coronavirus/` provides the data of 229 countries and 2 other. The other is the Diamond Princess cruise ship and MS Zaandam cruise ship. Remember that we also have 1 row for the world so the total number of `Country,Other` is 232. The cruise ships are not countries so they are not included in any continent. So we have to remove them from the DataFrame.\n",
    "- There are a kind of anomaly in `Continent`. There are 10 unique values althought we just have 7 continents"
   ]
  },
  {
   "cell_type": "code",
   "execution_count": 9,
   "metadata": {},
   "outputs": [
    {
     "data": {
      "text/plain": [
       "array(['All', 'Asia', 'North America', 'Europe', 'South America',\n",
       "       'Australia/Oceania', 'Africa', 'Africa    ', 'Africa  ', ''],\n",
       "      dtype=object)"
      ]
     },
     "execution_count": 9,
     "metadata": {},
     "output_type": "execute_result"
    }
   ],
   "source": [
    "big_df.Continent.unique()"
   ]
  },
  {
   "cell_type": "markdown",
   "metadata": {},
   "source": [
    "There are more than 1 **Africa** and 1 empty `Continent`. We will have to handle it."
   ]
  },
  {
   "cell_type": "markdown",
   "metadata": {},
   "source": [
    "---\n",
    "# Data preprocessing."
   ]
  },
  {
   "cell_type": "markdown",
   "metadata": {},
   "source": [
    "## Convert the columns to numeric.\n",
    "If we have read the original dataset, we can relize that there were 2 kind of missing values: empty cells & N/A cells. Additionally, we can relize that empty cell means 0 (e.g there is a empty cell at `NewDeaths` means there is no new death), and N/A cells, they truely missing values."
   ]
  },
  {
   "cell_type": "code",
   "execution_count": 10,
   "metadata": {},
   "outputs": [
    {
     "data": {
      "text/plain": [
       "['TotalCases',\n",
       " 'NewCases',\n",
       " 'TotalDeaths',\n",
       " 'NewDeaths',\n",
       " 'TotalRecovered',\n",
       " 'NewRecovered',\n",
       " 'ActiveCases',\n",
       " 'Serious,Critical',\n",
       " 'TotCases/1M pop',\n",
       " 'Deaths/1M pop',\n",
       " 'TotalTests',\n",
       " 'Tests/1M pop',\n",
       " 'Population']"
      ]
     },
     "execution_count": 10,
     "metadata": {},
     "output_type": "execute_result"
    }
   ],
   "source": [
    "header = big_df.columns.to_list()[1:-2]\n",
    "header\n"
   ]
  },
  {
   "cell_type": "code",
   "execution_count": 11,
   "metadata": {},
   "outputs": [],
   "source": [
    "# clear comma in number\n",
    "big_df[header] = big_df[header].apply(lambda x: x.str.replace(',', ''))\n",
    "# convert empty cell is 0\n",
    "big_df[header] = big_df[header].replace('', 0)\n",
    "# convert string \"N/A\" to nan value\n",
    "big_df[header] = big_df[header].replace(\"N/A\", np.nan)\n",
    "# convert object to numeric\n",
    "big_df[header] = big_df[header].apply(pd.to_numeric)\n"
   ]
  },
  {
   "cell_type": "code",
   "execution_count": 12,
   "metadata": {},
   "outputs": [
    {
     "data": {
      "text/html": [
       "<div>\n",
       "<style scoped>\n",
       "    .dataframe tbody tr th:only-of-type {\n",
       "        vertical-align: middle;\n",
       "    }\n",
       "\n",
       "    .dataframe tbody tr th {\n",
       "        vertical-align: top;\n",
       "    }\n",
       "\n",
       "    .dataframe thead th {\n",
       "        text-align: right;\n",
       "    }\n",
       "</style>\n",
       "<table border=\"1\" class=\"dataframe\">\n",
       "  <thead>\n",
       "    <tr style=\"text-align: right;\">\n",
       "      <th></th>\n",
       "      <th>count</th>\n",
       "      <th>mean</th>\n",
       "      <th>std</th>\n",
       "      <th>min</th>\n",
       "      <th>25%</th>\n",
       "      <th>50%</th>\n",
       "      <th>75%</th>\n",
       "      <th>max</th>\n",
       "    </tr>\n",
       "  </thead>\n",
       "  <tbody>\n",
       "    <tr>\n",
       "      <th>TotalCases</th>\n",
       "      <td>4872.0</td>\n",
       "      <td>5.869917e+06</td>\n",
       "      <td>4.543091e+07</td>\n",
       "      <td>5.0</td>\n",
       "      <td>24480.00</td>\n",
       "      <td>207869.5</td>\n",
       "      <td>1314562.50</td>\n",
       "      <td>6.823645e+08</td>\n",
       "    </tr>\n",
       "    <tr>\n",
       "      <th>NewCases</th>\n",
       "      <td>4872.0</td>\n",
       "      <td>7.769064e+02</td>\n",
       "      <td>6.347475e+03</td>\n",
       "      <td>0.0</td>\n",
       "      <td>0.00</td>\n",
       "      <td>0.0</td>\n",
       "      <td>2.00</td>\n",
       "      <td>1.346560e+05</td>\n",
       "    </tr>\n",
       "    <tr>\n",
       "      <th>TotalDeaths</th>\n",
       "      <td>4872.0</td>\n",
       "      <td>5.868406e+04</td>\n",
       "      <td>4.562075e+05</td>\n",
       "      <td>0.0</td>\n",
       "      <td>181.25</td>\n",
       "      <td>1968.5</td>\n",
       "      <td>14204.50</td>\n",
       "      <td>6.818745e+06</td>\n",
       "    </tr>\n",
       "    <tr>\n",
       "      <th>NewDeaths</th>\n",
       "      <td>4872.0</td>\n",
       "      <td>4.221264e+00</td>\n",
       "      <td>3.553143e+01</td>\n",
       "      <td>0.0</td>\n",
       "      <td>0.00</td>\n",
       "      <td>0.0</td>\n",
       "      <td>0.00</td>\n",
       "      <td>7.000000e+02</td>\n",
       "    </tr>\n",
       "    <tr>\n",
       "      <th>TotalRecovered</th>\n",
       "      <td>4587.0</td>\n",
       "      <td>5.899363e+06</td>\n",
       "      <td>4.494581e+07</td>\n",
       "      <td>0.0</td>\n",
       "      <td>17264.00</td>\n",
       "      <td>185101.0</td>\n",
       "      <td>1452118.50</td>\n",
       "      <td>6.552776e+08</td>\n",
       "    </tr>\n",
       "    <tr>\n",
       "      <th>NewRecovered</th>\n",
       "      <td>4587.0</td>\n",
       "      <td>1.222934e+03</td>\n",
       "      <td>1.005276e+04</td>\n",
       "      <td>0.0</td>\n",
       "      <td>0.00</td>\n",
       "      <td>0.0</td>\n",
       "      <td>1.00</td>\n",
       "      <td>2.093070e+05</td>\n",
       "    </tr>\n",
       "    <tr>\n",
       "      <th>ActiveCases</th>\n",
       "      <td>4587.0</td>\n",
       "      <td>1.788465e+05</td>\n",
       "      <td>1.576377e+06</td>\n",
       "      <td>-1548.0</td>\n",
       "      <td>43.00</td>\n",
       "      <td>1001.0</td>\n",
       "      <td>10152.00</td>\n",
       "      <td>2.044663e+07</td>\n",
       "    </tr>\n",
       "    <tr>\n",
       "      <th>Serious,Critical</th>\n",
       "      <td>4722.0</td>\n",
       "      <td>2.566804e+02</td>\n",
       "      <td>2.738124e+03</td>\n",
       "      <td>0.0</td>\n",
       "      <td>0.00</td>\n",
       "      <td>2.0</td>\n",
       "      <td>19.00</td>\n",
       "      <td>4.067100e+04</td>\n",
       "    </tr>\n",
       "    <tr>\n",
       "      <th>TotCases/1M pop</th>\n",
       "      <td>4872.0</td>\n",
       "      <td>1.937057e+05</td>\n",
       "      <td>1.964549e+05</td>\n",
       "      <td>0.0</td>\n",
       "      <td>16823.25</td>\n",
       "      <td>123539.0</td>\n",
       "      <td>313120.25</td>\n",
       "      <td>7.039590e+05</td>\n",
       "    </tr>\n",
       "    <tr>\n",
       "      <th>Deaths/1M pop</th>\n",
       "      <td>4872.0</td>\n",
       "      <td>1.201995e+03</td>\n",
       "      <td>1.271577e+03</td>\n",
       "      <td>0.0</td>\n",
       "      <td>133.75</td>\n",
       "      <td>755.0</td>\n",
       "      <td>1949.00</td>\n",
       "      <td>6.520000e+03</td>\n",
       "    </tr>\n",
       "    <tr>\n",
       "      <th>TotalTests</th>\n",
       "      <td>4872.0</td>\n",
       "      <td>2.994390e+07</td>\n",
       "      <td>1.134359e+08</td>\n",
       "      <td>0.0</td>\n",
       "      <td>219825.50</td>\n",
       "      <td>1659430.0</td>\n",
       "      <td>11439670.00</td>\n",
       "      <td>1.169977e+09</td>\n",
       "    </tr>\n",
       "    <tr>\n",
       "      <th>Tests/1M pop</th>\n",
       "      <td>4872.0</td>\n",
       "      <td>1.951688e+06</td>\n",
       "      <td>3.516704e+06</td>\n",
       "      <td>0.0</td>\n",
       "      <td>77973.50</td>\n",
       "      <td>717353.5</td>\n",
       "      <td>2096922.00</td>\n",
       "      <td>2.330212e+07</td>\n",
       "    </tr>\n",
       "    <tr>\n",
       "      <th>Population</th>\n",
       "      <td>4872.0</td>\n",
       "      <td>3.424541e+07</td>\n",
       "      <td>1.375071e+08</td>\n",
       "      <td>0.0</td>\n",
       "      <td>409271.50</td>\n",
       "      <td>5533165.0</td>\n",
       "      <td>21707591.00</td>\n",
       "      <td>1.448471e+09</td>\n",
       "    </tr>\n",
       "  </tbody>\n",
       "</table>\n",
       "</div>"
      ],
      "text/plain": [
       "                   count          mean           std     min        25%  \\\n",
       "TotalCases        4872.0  5.869917e+06  4.543091e+07     5.0   24480.00   \n",
       "NewCases          4872.0  7.769064e+02  6.347475e+03     0.0       0.00   \n",
       "TotalDeaths       4872.0  5.868406e+04  4.562075e+05     0.0     181.25   \n",
       "NewDeaths         4872.0  4.221264e+00  3.553143e+01     0.0       0.00   \n",
       "TotalRecovered    4587.0  5.899363e+06  4.494581e+07     0.0   17264.00   \n",
       "NewRecovered      4587.0  1.222934e+03  1.005276e+04     0.0       0.00   \n",
       "ActiveCases       4587.0  1.788465e+05  1.576377e+06 -1548.0      43.00   \n",
       "Serious,Critical  4722.0  2.566804e+02  2.738124e+03     0.0       0.00   \n",
       "TotCases/1M pop   4872.0  1.937057e+05  1.964549e+05     0.0   16823.25   \n",
       "Deaths/1M pop     4872.0  1.201995e+03  1.271577e+03     0.0     133.75   \n",
       "TotalTests        4872.0  2.994390e+07  1.134359e+08     0.0  219825.50   \n",
       "Tests/1M pop      4872.0  1.951688e+06  3.516704e+06     0.0   77973.50   \n",
       "Population        4872.0  3.424541e+07  1.375071e+08     0.0  409271.50   \n",
       "\n",
       "                        50%          75%           max  \n",
       "TotalCases         207869.5   1314562.50  6.823645e+08  \n",
       "NewCases                0.0         2.00  1.346560e+05  \n",
       "TotalDeaths          1968.5     14204.50  6.818745e+06  \n",
       "NewDeaths               0.0         0.00  7.000000e+02  \n",
       "TotalRecovered     185101.0   1452118.50  6.552776e+08  \n",
       "NewRecovered            0.0         1.00  2.093070e+05  \n",
       "ActiveCases          1001.0     10152.00  2.044663e+07  \n",
       "Serious,Critical        2.0        19.00  4.067100e+04  \n",
       "TotCases/1M pop    123539.0    313120.25  7.039590e+05  \n",
       "Deaths/1M pop         755.0      1949.00  6.520000e+03  \n",
       "TotalTests        1659430.0  11439670.00  1.169977e+09  \n",
       "Tests/1M pop       717353.5   2096922.00  2.330212e+07  \n",
       "Population        5533165.0  21707591.00  1.448471e+09  "
      ]
     },
     "execution_count": 12,
     "metadata": {},
     "output_type": "execute_result"
    }
   ],
   "source": [
    "# get DataFrame statistics\n",
    "big_df.describe().T"
   ]
  },
  {
   "cell_type": "code",
   "execution_count": 13,
   "metadata": {},
   "outputs": [
    {
     "data": {
      "text/html": [
       "<div>\n",
       "<style scoped>\n",
       "    .dataframe tbody tr th:only-of-type {\n",
       "        vertical-align: middle;\n",
       "    }\n",
       "\n",
       "    .dataframe tbody tr th {\n",
       "        vertical-align: top;\n",
       "    }\n",
       "\n",
       "    .dataframe thead th {\n",
       "        text-align: right;\n",
       "    }\n",
       "</style>\n",
       "<table border=\"1\" class=\"dataframe\">\n",
       "  <thead>\n",
       "    <tr style=\"text-align: right;\">\n",
       "      <th></th>\n",
       "      <th>Country,Other</th>\n",
       "      <th>Continent</th>\n",
       "    </tr>\n",
       "  </thead>\n",
       "  <tbody>\n",
       "    <tr>\n",
       "      <th>count</th>\n",
       "      <td>4872</td>\n",
       "      <td>4872</td>\n",
       "    </tr>\n",
       "    <tr>\n",
       "      <th>unique</th>\n",
       "      <td>232</td>\n",
       "      <td>10</td>\n",
       "    </tr>\n",
       "    <tr>\n",
       "      <th>top</th>\n",
       "      <td>World</td>\n",
       "      <td>Africa</td>\n",
       "    </tr>\n",
       "    <tr>\n",
       "      <th>freq</th>\n",
       "      <td>21</td>\n",
       "      <td>1216</td>\n",
       "    </tr>\n",
       "  </tbody>\n",
       "</table>\n",
       "</div>"
      ],
      "text/plain": [
       "       Country,Other Continent\n",
       "count           4872      4872\n",
       "unique           232        10\n",
       "top            World    Africa\n",
       "freq              21      1216"
      ]
     },
     "execution_count": 13,
     "metadata": {},
     "output_type": "execute_result"
    }
   ],
   "source": [
    "big_df.describe(include=['O'])"
   ]
  },
  {
   "cell_type": "code",
   "execution_count": 14,
   "metadata": {},
   "outputs": [
    {
     "name": "stdout",
     "output_type": "stream",
     "text": [
      "<class 'pandas.core.frame.DataFrame'>\n",
      "RangeIndex: 4872 entries, 0 to 4871\n",
      "Data columns (total 16 columns):\n",
      " #   Column            Non-Null Count  Dtype         \n",
      "---  ------            --------------  -----         \n",
      " 0   Country,Other     4872 non-null   object        \n",
      " 1   TotalCases        4872 non-null   int64         \n",
      " 2   NewCases          4872 non-null   int64         \n",
      " 3   TotalDeaths       4872 non-null   int64         \n",
      " 4   NewDeaths         4872 non-null   float64       \n",
      " 5   TotalRecovered    4587 non-null   float64       \n",
      " 6   NewRecovered      4587 non-null   float64       \n",
      " 7   ActiveCases       4587 non-null   float64       \n",
      " 8   Serious,Critical  4722 non-null   float64       \n",
      " 9   TotCases/1M pop   4872 non-null   int64         \n",
      " 10  Deaths/1M pop     4872 non-null   float64       \n",
      " 11  TotalTests        4872 non-null   int64         \n",
      " 12  Tests/1M pop      4872 non-null   int64         \n",
      " 13  Population        4872 non-null   int64         \n",
      " 14  Continent         4872 non-null   object        \n",
      " 15  Date              4872 non-null   datetime64[ns]\n",
      "dtypes: datetime64[ns](1), float64(6), int64(7), object(2)\n",
      "memory usage: 609.1+ KB\n"
     ]
    }
   ],
   "source": [
    "big_df.info()"
   ]
  },
  {
   "cell_type": "markdown",
   "metadata": {},
   "source": [
    "## Handle missing values"
   ]
  },
  {
   "cell_type": "code",
   "execution_count": 15,
   "metadata": {},
   "outputs": [
    {
     "data": {
      "text/plain": [
       "TotalRecovered      5.849754\n",
       "NewRecovered        5.849754\n",
       "ActiveCases         5.849754\n",
       "Serious,Critical    3.078818\n",
       "dtype: float64"
      ]
     },
     "execution_count": 15,
     "metadata": {},
     "output_type": "execute_result"
    }
   ],
   "source": [
    "# calculate missing percentage\n",
    "missing_percentage = big_df.isnull().mean() * 100\n",
    "missing_percentage[missing_percentage.values > 0].sort_values(ascending=False)"
   ]
  },
  {
   "cell_type": "markdown",
   "metadata": {},
   "source": [
    "Comment: we will fill missing values with mean or median"
   ]
  },
  {
   "cell_type": "markdown",
   "metadata": {},
   "source": [
    "Filling the missing values with the mean of the column."
   ]
  },
  {
   "cell_type": "code",
   "execution_count": 16,
   "metadata": {},
   "outputs": [],
   "source": [
    "%%capture\n",
    "big_df = big_df.fillna(big_df.mean())"
   ]
  },
  {
   "cell_type": "markdown",
   "metadata": {},
   "source": [
    "Now checking missing values again!"
   ]
  },
  {
   "cell_type": "code",
   "execution_count": 17,
   "metadata": {},
   "outputs": [
    {
     "data": {
      "text/plain": [
       "Country,Other       0\n",
       "TotalCases          0\n",
       "NewCases            0\n",
       "TotalDeaths         0\n",
       "NewDeaths           0\n",
       "TotalRecovered      0\n",
       "NewRecovered        0\n",
       "ActiveCases         0\n",
       "Serious,Critical    0\n",
       "TotCases/1M pop     0\n",
       "Deaths/1M pop       0\n",
       "TotalTests          0\n",
       "Tests/1M pop        0\n",
       "Population          0\n",
       "Continent           0\n",
       "Date                0\n",
       "dtype: int64"
      ]
     },
     "execution_count": 17,
     "metadata": {},
     "output_type": "execute_result"
    }
   ],
   "source": [
    "big_df.isnull().sum()"
   ]
  },
  {
   "cell_type": "markdown",
   "metadata": {},
   "source": [
    "## Handle `Continent` features"
   ]
  },
  {
   "cell_type": "code",
   "execution_count": 18,
   "metadata": {},
   "outputs": [
    {
     "data": {
      "text/plain": [
       "array(['All', 'Asia', 'North America', 'Europe', 'South America',\n",
       "       'Australia/Oceania', 'Africa'], dtype=object)"
      ]
     },
     "execution_count": 18,
     "metadata": {},
     "output_type": "execute_result"
    }
   ],
   "source": [
    "big_df.Continent = big_df.Continent.str.strip()\n",
    "big_df.Continent = big_df.Continent.replace('', 'All')\n",
    "\n",
    "big_df.Continent.unique()"
   ]
  },
  {
   "cell_type": "code",
   "execution_count": 19,
   "metadata": {},
   "outputs": [],
   "source": [
    "big_df = big_df.drop(index=big_df[big_df['Continent'] == 'All'].index)\n",
    "big_df.to_csv('covid19.csv', index=False)\n",
    "big_df[big_df['Date'] > '2023-03-10'].to_csv('test.csv',index=False)\n",
    "big_df[big_df['Date']<= '2023-03-10'].to_csv('train.csv',index=False)"
   ]
  },
  {
   "cell_type": "code",
   "execution_count": 20,
   "metadata": {},
   "outputs": [],
   "source": [
    "data = pd.read_csv('train.csv')\n",
    "features = ['TotalCases', 'TotalRecovered', 'TotalDeaths', 'NewDeaths', 'NewRecovered']\n",
    "target = ['NewCases']\n",
    "X = data[features]\n",
    "Y = data[target]\n",
    "\n",
    "train_X, val_X, train_Y, val_Y = train_test_split(X, Y, test_size=0.2, random_state=0)"
   ]
  },
  {
   "cell_type": "code",
   "execution_count": 21,
   "metadata": {},
   "outputs": [],
   "source": [
    "test = pd.read_csv('test.csv')\n",
    "test_X = test[['TotalCases', 'TotalRecovered', 'TotalDeaths', 'NewDeaths', 'NewRecovered']]\n",
    "test_Y = test['NewCases']"
   ]
  },
  {
   "cell_type": "code",
   "execution_count": 22,
   "metadata": {},
   "outputs": [
    {
     "name": "stdout",
     "output_type": "stream",
     "text": [
      "0.7093474262065791\n",
      "0.8819431574252362\n"
     ]
    }
   ],
   "source": [
    "regressor = DecisionTreeRegressor(random_state = 0) \n",
    "regressor.fit(train_X, train_Y)\n",
    "\n",
    "lin = LinearRegression()\n",
    "lin.fit(train_X,train_Y)\n",
    "\n",
    "print(lin.score(val_X, val_Y)) # R-squared\n",
    "print(regressor.score(val_X, val_Y)) # R-squared"
   ]
  },
  {
   "cell_type": "code",
   "execution_count": 23,
   "metadata": {},
   "outputs": [],
   "source": [
    "res = pd.DataFrame({\n",
    "    'Actual': test_Y,\n",
    "    'Predicted Tree': regressor.predict(test_X).reshape(-1).astype(int),\n",
    "    'Predicted Linear': lin.predict(test_X).reshape(-1).astype(int),\n",
    "    'Country': test['Country,Other'],\n",
    "    'Continent': test['Continent'],\n",
    "    'Date': test['Date'],\n",
    "    'R2 predicted Tree': regressor.score(test_X, test_Y),\n",
    "    'R2 predicted Linear': lin.score(test_X, test_Y)\n",
    "})\n",
    "\n",
    "res.to_csv('result.csv', index=False)"
   ]
  },
  {
   "cell_type": "code",
   "execution_count": 24,
   "metadata": {},
   "outputs": [
    {
     "name": "stdout",
     "output_type": "stream",
     "text": [
      "0.48780932361634277\n",
      "0.5571534259922764\n"
     ]
    }
   ],
   "source": [
    "print(lin.score(test_X, test_Y)) # R-squared\n",
    "print(regressor.score(test_X, test_Y)) # R-squared"
   ]
  },
  {
   "cell_type": "code",
   "execution_count": 27,
   "metadata": {},
   "outputs": [],
   "source": [
    "big_df.corr().to_csv('corr.csv')"
   ]
  }
 ],
 "metadata": {
  "kernelspec": {
   "display_name": "base",
   "language": "python",
   "name": "python3"
  },
  "language_info": {
   "codemirror_mode": {
    "name": "ipython",
    "version": 3
   },
   "file_extension": ".py",
   "mimetype": "text/x-python",
   "name": "python",
   "nbconvert_exporter": "python",
   "pygments_lexer": "ipython3",
   "version": "3.9.12"
  },
  "orig_nbformat": 4,
  "vscode": {
   "interpreter": {
    "hash": "06fed9727ef41eff4890e7304d753e6132b3e34af42489d4b9695a3404b3fcb4"
   }
  }
 },
 "nbformat": 4,
 "nbformat_minor": 2
}
